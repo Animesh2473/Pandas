{
 "cells": [
  {
   "cell_type": "code",
   "execution_count": 81,
   "id": "c0c62fac-86d7-41e8-8f3e-0ceb552d4781",
   "metadata": {},
   "outputs": [],
   "source": [
    "import pandas as pd"
   ]
  },
  {
   "cell_type": "code",
   "execution_count": 82,
   "id": "09281af5-0244-4606-87a7-9bf7a51d1905",
   "metadata": {},
   "outputs": [
    {
     "data": {
      "text/plain": [
       "0          Bat\n",
       "1         Ball\n",
       "2    Batminton\n",
       "dtype: object"
      ]
     },
     "execution_count": 82,
     "metadata": {},
     "output_type": "execute_result"
    }
   ],
   "source": [
    "s1 = pd.Series([\"Bat\",\"Ball\",\"Batminton\"])\n",
    "s1"
   ]
  },
  {
   "cell_type": "code",
   "execution_count": 83,
   "id": "8836785e-9d84-4993-a8ae-f7dd4fef1411",
   "metadata": {},
   "outputs": [
    {
     "data": {
      "text/plain": [
       "0     Blue\n",
       "1      Red\n",
       "2    White\n",
       "dtype: object"
      ]
     },
     "execution_count": 83,
     "metadata": {},
     "output_type": "execute_result"
    }
   ],
   "source": [
    "s2 = pd.Series([\"Blue\",\"Red\",\"White\"])\n",
    "s2"
   ]
  },
  {
   "cell_type": "code",
   "execution_count": 84,
   "id": "e1c8f25f-be63-4d82-8153-29d657545ca6",
   "metadata": {},
   "outputs": [
    {
     "data": {
      "text/plain": [
       "0    200\n",
       "1     50\n",
       "2    100\n",
       "dtype: int64"
      ]
     },
     "execution_count": 84,
     "metadata": {},
     "output_type": "execute_result"
    }
   ],
   "source": [
    "s3 = pd.Series([200,50,100])\n",
    "s3"
   ]
  },
  {
   "cell_type": "code",
   "execution_count": 85,
   "id": "ae4ba4aa-1c29-4644-9583-95aacaf53779",
   "metadata": {},
   "outputs": [
    {
     "data": {
      "text/html": [
       "<div>\n",
       "<style scoped>\n",
       "    .dataframe tbody tr th:only-of-type {\n",
       "        vertical-align: middle;\n",
       "    }\n",
       "\n",
       "    .dataframe tbody tr th {\n",
       "        vertical-align: top;\n",
       "    }\n",
       "\n",
       "    .dataframe thead th {\n",
       "        text-align: right;\n",
       "    }\n",
       "</style>\n",
       "<table border=\"1\" class=\"dataframe\">\n",
       "  <thead>\n",
       "    <tr style=\"text-align: right;\">\n",
       "      <th></th>\n",
       "      <th>Items</th>\n",
       "      <th>Colour</th>\n",
       "      <th>Price</th>\n",
       "    </tr>\n",
       "  </thead>\n",
       "  <tbody>\n",
       "    <tr>\n",
       "      <th>0</th>\n",
       "      <td>Bat</td>\n",
       "      <td>Blue</td>\n",
       "      <td>200</td>\n",
       "    </tr>\n",
       "    <tr>\n",
       "      <th>1</th>\n",
       "      <td>Ball</td>\n",
       "      <td>Red</td>\n",
       "      <td>50</td>\n",
       "    </tr>\n",
       "    <tr>\n",
       "      <th>2</th>\n",
       "      <td>Batminton</td>\n",
       "      <td>White</td>\n",
       "      <td>100</td>\n",
       "    </tr>\n",
       "  </tbody>\n",
       "</table>\n",
       "</div>"
      ],
      "text/plain": [
       "       Items Colour  Price\n",
       "0        Bat   Blue    200\n",
       "1       Ball    Red     50\n",
       "2  Batminton  White    100"
      ]
     },
     "execution_count": 85,
     "metadata": {},
     "output_type": "execute_result"
    }
   ],
   "source": [
    "d1 = pd.DataFrame({\"Items\":s1,\"Colour\":s2,\"Price\":s3})\n",
    "d1"
   ]
  },
  {
   "cell_type": "code",
   "execution_count": 86,
   "id": "d51a6fb1-a5f3-4f0c-a9ef-b9888a006909",
   "metadata": {},
   "outputs": [
    {
     "data": {
      "text/html": [
       "<div>\n",
       "<style scoped>\n",
       "    .dataframe tbody tr th:only-of-type {\n",
       "        vertical-align: middle;\n",
       "    }\n",
       "\n",
       "    .dataframe tbody tr th {\n",
       "        vertical-align: top;\n",
       "    }\n",
       "\n",
       "    .dataframe thead th {\n",
       "        text-align: right;\n",
       "    }\n",
       "</style>\n",
       "<table border=\"1\" class=\"dataframe\">\n",
       "  <thead>\n",
       "    <tr style=\"text-align: right;\">\n",
       "      <th></th>\n",
       "      <th>student</th>\n",
       "      <th>language</th>\n",
       "      <th>science</th>\n",
       "      <th>maths</th>\n",
       "      <th>history</th>\n",
       "    </tr>\n",
       "  </thead>\n",
       "  <tbody>\n",
       "    <tr>\n",
       "      <th>0</th>\n",
       "      <td>kumar</td>\n",
       "      <td>90</td>\n",
       "      <td>56</td>\n",
       "      <td>34</td>\n",
       "      <td>34</td>\n",
       "    </tr>\n",
       "    <tr>\n",
       "      <th>1</th>\n",
       "      <td>kevin</td>\n",
       "      <td>10</td>\n",
       "      <td>34</td>\n",
       "      <td>32</td>\n",
       "      <td>67</td>\n",
       "    </tr>\n",
       "    <tr>\n",
       "      <th>2</th>\n",
       "      <td>sammy</td>\n",
       "      <td>90</td>\n",
       "      <td>23</td>\n",
       "      <td>12</td>\n",
       "      <td>32</td>\n",
       "    </tr>\n",
       "    <tr>\n",
       "      <th>3</th>\n",
       "      <td>janice</td>\n",
       "      <td>20</td>\n",
       "      <td>67</td>\n",
       "      <td>90</td>\n",
       "      <td>45</td>\n",
       "    </tr>\n",
       "    <tr>\n",
       "      <th>4</th>\n",
       "      <td>peter</td>\n",
       "      <td>30</td>\n",
       "      <td>56</td>\n",
       "      <td>45</td>\n",
       "      <td>65</td>\n",
       "    </tr>\n",
       "    <tr>\n",
       "      <th>5</th>\n",
       "      <td>prem</td>\n",
       "      <td>90</td>\n",
       "      <td>45</td>\n",
       "      <td>45</td>\n",
       "      <td>34</td>\n",
       "    </tr>\n",
       "    <tr>\n",
       "      <th>6</th>\n",
       "      <td>carrol</td>\n",
       "      <td>50</td>\n",
       "      <td>90</td>\n",
       "      <td>45</td>\n",
       "      <td>23</td>\n",
       "    </tr>\n",
       "  </tbody>\n",
       "</table>\n",
       "</div>"
      ],
      "text/plain": [
       "  student  language  science  maths  history\n",
       "0   kumar        90       56     34       34\n",
       "1   kevin        10       34     32       67\n",
       "2   sammy        90       23     12       32\n",
       "3  janice        20       67     90       45\n",
       "4   peter        30       56     45       65\n",
       "5    prem        90       45     45       34\n",
       "6  carrol        50       90     45       23"
      ]
     },
     "execution_count": 86,
     "metadata": {},
     "output_type": "execute_result"
    }
   ],
   "source": [
    "student = pd.read_csv(\"abc.csv\")\n",
    "student"
   ]
  },
  {
   "cell_type": "code",
   "execution_count": 87,
   "id": "04fac4ae-e349-4ce1-a5b5-46947ba951d9",
   "metadata": {},
   "outputs": [
    {
     "data": {
      "text/plain": [
       "language    54.285714\n",
       "science     53.000000\n",
       "maths       43.285714\n",
       "history     42.857143\n",
       "dtype: float64"
      ]
     },
     "execution_count": 87,
     "metadata": {},
     "output_type": "execute_result"
    }
   ],
   "source": [
    "mean = student.mean(numeric_only=True)\n",
    "mean"
   ]
  },
  {
   "cell_type": "code",
   "execution_count": 88,
   "id": "6970eaa8-fa1d-491c-8329-ccdbad74d73f",
   "metadata": {},
   "outputs": [
    {
     "data": {
      "text/plain": [
       "language    50.0\n",
       "science     56.0\n",
       "maths       45.0\n",
       "history     34.0\n",
       "dtype: float64"
      ]
     },
     "execution_count": 88,
     "metadata": {},
     "output_type": "execute_result"
    }
   ],
   "source": [
    "median = student.median(numeric_only=True)\n",
    "median"
   ]
  },
  {
   "cell_type": "code",
   "execution_count": 89,
   "id": "b0904e5e-e3c3-46e4-9379-13b119e70a33",
   "metadata": {},
   "outputs": [
    {
     "data": {
      "text/plain": [
       "language    35.523299\n",
       "science     22.015146\n",
       "maths       23.746679\n",
       "history     17.062909\n",
       "dtype: float64"
      ]
     },
     "execution_count": 89,
     "metadata": {},
     "output_type": "execute_result"
    }
   ],
   "source": [
    "std = student.std(numeric_only=True)\n",
    "std"
   ]
  },
  {
   "cell_type": "code",
   "execution_count": 90,
   "id": "7100a449-6c99-44ee-967f-178b648509e6",
   "metadata": {},
   "outputs": [
    {
     "data": {
      "text/plain": [
       "student     object\n",
       "language     int64\n",
       "science      int64\n",
       "maths        int64\n",
       "history      int64\n",
       "dtype: object"
      ]
     },
     "execution_count": 90,
     "metadata": {},
     "output_type": "execute_result"
    }
   ],
   "source": [
    "student.dtypes"
   ]
  },
  {
   "cell_type": "code",
   "execution_count": 91,
   "id": "5f680070-66ba-4cd6-a7f0-6a48246bcb9a",
   "metadata": {},
   "outputs": [
    {
     "data": {
      "text/plain": [
       "Index(['student', 'language', 'science', 'maths', 'history'], dtype='object')"
      ]
     },
     "execution_count": 91,
     "metadata": {},
     "output_type": "execute_result"
    }
   ],
   "source": [
    "student.columns"
   ]
  },
  {
   "cell_type": "code",
   "execution_count": 92,
   "id": "16567b77-6ab1-4e50-b8f3-6a159c6be826",
   "metadata": {},
   "outputs": [
    {
     "data": {
      "text/plain": [
       "RangeIndex(start=0, stop=7, step=1)"
      ]
     },
     "execution_count": 92,
     "metadata": {},
     "output_type": "execute_result"
    }
   ],
   "source": [
    "student.index"
   ]
  },
  {
   "cell_type": "code",
   "execution_count": 93,
   "id": "c2564418-14c0-4831-a9e7-54eecb1a0637",
   "metadata": {},
   "outputs": [
    {
     "data": {
      "text/plain": [
       "<bound method NDFrame.describe of   student  language  science  maths  history\n",
       "0   kumar        90       56     34       34\n",
       "1   kevin        10       34     32       67\n",
       "2   sammy        90       23     12       32\n",
       "3  janice        20       67     90       45\n",
       "4   peter        30       56     45       65\n",
       "5    prem        90       45     45       34\n",
       "6  carrol        50       90     45       23>"
      ]
     },
     "execution_count": 93,
     "metadata": {},
     "output_type": "execute_result"
    }
   ],
   "source": [
    "student.describe"
   ]
  },
  {
   "cell_type": "code",
   "execution_count": 94,
   "id": "6eaf3a28-8874-49cf-950b-55b1bd4c7e37",
   "metadata": {},
   "outputs": [
    {
     "name": "stdout",
     "output_type": "stream",
     "text": [
      "<class 'pandas.core.frame.DataFrame'>\n",
      "RangeIndex: 7 entries, 0 to 6\n",
      "Data columns (total 5 columns):\n",
      " #   Column    Non-Null Count  Dtype \n",
      "---  ------    --------------  ----- \n",
      " 0   student   7 non-null      object\n",
      " 1   language  7 non-null      int64 \n",
      " 2   science   7 non-null      int64 \n",
      " 3   maths     7 non-null      int64 \n",
      " 4   history   7 non-null      int64 \n",
      "dtypes: int64(4), object(1)\n",
      "memory usage: 412.0+ bytes\n"
     ]
    }
   ],
   "source": [
    "student.info()"
   ]
  },
  {
   "cell_type": "code",
   "execution_count": 95,
   "id": "c555c8e6-d6e3-4d74-961f-50f4fe570684",
   "metadata": {},
   "outputs": [
    {
     "data": {
      "text/html": [
       "<div>\n",
       "<style scoped>\n",
       "    .dataframe tbody tr th:only-of-type {\n",
       "        vertical-align: middle;\n",
       "    }\n",
       "\n",
       "    .dataframe tbody tr th {\n",
       "        vertical-align: top;\n",
       "    }\n",
       "\n",
       "    .dataframe thead th {\n",
       "        text-align: right;\n",
       "    }\n",
       "</style>\n",
       "<table border=\"1\" class=\"dataframe\">\n",
       "  <thead>\n",
       "    <tr style=\"text-align: right;\">\n",
       "      <th></th>\n",
       "      <th>language</th>\n",
       "      <th>science</th>\n",
       "      <th>maths</th>\n",
       "      <th>history</th>\n",
       "    </tr>\n",
       "  </thead>\n",
       "  <tbody>\n",
       "    <tr>\n",
       "      <th>0</th>\n",
       "      <td>90</td>\n",
       "      <td>56</td>\n",
       "      <td>45</td>\n",
       "      <td>34</td>\n",
       "    </tr>\n",
       "  </tbody>\n",
       "</table>\n",
       "</div>"
      ],
      "text/plain": [
       "   language  science  maths  history\n",
       "0        90       56     45       34"
      ]
     },
     "execution_count": 95,
     "metadata": {},
     "output_type": "execute_result"
    }
   ],
   "source": [
    "student.mode(numeric_only=True)"
   ]
  },
  {
   "cell_type": "code",
   "execution_count": 96,
   "id": "49088e6d-5e3f-4e22-8836-5622bbf007a2",
   "metadata": {},
   "outputs": [
    {
     "data": {
      "text/html": [
       "<div>\n",
       "<style scoped>\n",
       "    .dataframe tbody tr th:only-of-type {\n",
       "        vertical-align: middle;\n",
       "    }\n",
       "\n",
       "    .dataframe tbody tr th {\n",
       "        vertical-align: top;\n",
       "    }\n",
       "\n",
       "    .dataframe thead th {\n",
       "        text-align: right;\n",
       "    }\n",
       "</style>\n",
       "<table border=\"1\" class=\"dataframe\">\n",
       "  <thead>\n",
       "    <tr style=\"text-align: right;\">\n",
       "      <th></th>\n",
       "      <th>student</th>\n",
       "      <th>language</th>\n",
       "      <th>science</th>\n",
       "      <th>maths</th>\n",
       "      <th>history</th>\n",
       "    </tr>\n",
       "  </thead>\n",
       "  <tbody>\n",
       "    <tr>\n",
       "      <th>0</th>\n",
       "      <td>kumar</td>\n",
       "      <td>90</td>\n",
       "      <td>56</td>\n",
       "      <td>34</td>\n",
       "      <td>34</td>\n",
       "    </tr>\n",
       "    <tr>\n",
       "      <th>1</th>\n",
       "      <td>kevin</td>\n",
       "      <td>10</td>\n",
       "      <td>34</td>\n",
       "      <td>32</td>\n",
       "      <td>67</td>\n",
       "    </tr>\n",
       "    <tr>\n",
       "      <th>2</th>\n",
       "      <td>sammy</td>\n",
       "      <td>90</td>\n",
       "      <td>23</td>\n",
       "      <td>12</td>\n",
       "      <td>32</td>\n",
       "    </tr>\n",
       "    <tr>\n",
       "      <th>3</th>\n",
       "      <td>janice</td>\n",
       "      <td>20</td>\n",
       "      <td>67</td>\n",
       "      <td>90</td>\n",
       "      <td>45</td>\n",
       "    </tr>\n",
       "    <tr>\n",
       "      <th>4</th>\n",
       "      <td>peter</td>\n",
       "      <td>30</td>\n",
       "      <td>56</td>\n",
       "      <td>45</td>\n",
       "      <td>65</td>\n",
       "    </tr>\n",
       "  </tbody>\n",
       "</table>\n",
       "</div>"
      ],
      "text/plain": [
       "  student  language  science  maths  history\n",
       "0   kumar        90       56     34       34\n",
       "1   kevin        10       34     32       67\n",
       "2   sammy        90       23     12       32\n",
       "3  janice        20       67     90       45\n",
       "4   peter        30       56     45       65"
      ]
     },
     "execution_count": 96,
     "metadata": {},
     "output_type": "execute_result"
    }
   ],
   "source": [
    "student.head()"
   ]
  },
  {
   "cell_type": "code",
   "execution_count": 97,
   "id": "317cca6b-1649-4a7a-bab2-28343b91c534",
   "metadata": {},
   "outputs": [
    {
     "data": {
      "text/html": [
       "<div>\n",
       "<style scoped>\n",
       "    .dataframe tbody tr th:only-of-type {\n",
       "        vertical-align: middle;\n",
       "    }\n",
       "\n",
       "    .dataframe tbody tr th {\n",
       "        vertical-align: top;\n",
       "    }\n",
       "\n",
       "    .dataframe thead th {\n",
       "        text-align: right;\n",
       "    }\n",
       "</style>\n",
       "<table border=\"1\" class=\"dataframe\">\n",
       "  <thead>\n",
       "    <tr style=\"text-align: right;\">\n",
       "      <th></th>\n",
       "      <th>student</th>\n",
       "      <th>language</th>\n",
       "      <th>science</th>\n",
       "      <th>maths</th>\n",
       "      <th>history</th>\n",
       "    </tr>\n",
       "  </thead>\n",
       "  <tbody>\n",
       "    <tr>\n",
       "      <th>2</th>\n",
       "      <td>sammy</td>\n",
       "      <td>90</td>\n",
       "      <td>23</td>\n",
       "      <td>12</td>\n",
       "      <td>32</td>\n",
       "    </tr>\n",
       "    <tr>\n",
       "      <th>3</th>\n",
       "      <td>janice</td>\n",
       "      <td>20</td>\n",
       "      <td>67</td>\n",
       "      <td>90</td>\n",
       "      <td>45</td>\n",
       "    </tr>\n",
       "    <tr>\n",
       "      <th>4</th>\n",
       "      <td>peter</td>\n",
       "      <td>30</td>\n",
       "      <td>56</td>\n",
       "      <td>45</td>\n",
       "      <td>65</td>\n",
       "    </tr>\n",
       "    <tr>\n",
       "      <th>5</th>\n",
       "      <td>prem</td>\n",
       "      <td>90</td>\n",
       "      <td>45</td>\n",
       "      <td>45</td>\n",
       "      <td>34</td>\n",
       "    </tr>\n",
       "    <tr>\n",
       "      <th>6</th>\n",
       "      <td>carrol</td>\n",
       "      <td>50</td>\n",
       "      <td>90</td>\n",
       "      <td>45</td>\n",
       "      <td>23</td>\n",
       "    </tr>\n",
       "  </tbody>\n",
       "</table>\n",
       "</div>"
      ],
      "text/plain": [
       "  student  language  science  maths  history\n",
       "2   sammy        90       23     12       32\n",
       "3  janice        20       67     90       45\n",
       "4   peter        30       56     45       65\n",
       "5    prem        90       45     45       34\n",
       "6  carrol        50       90     45       23"
      ]
     },
     "execution_count": 97,
     "metadata": {},
     "output_type": "execute_result"
    }
   ],
   "source": [
    "student.tail()"
   ]
  },
  {
   "cell_type": "code",
   "execution_count": 98,
   "id": "f4ee2709-7663-4a7e-a789-75d06a8a5a34",
   "metadata": {},
   "outputs": [],
   "source": [
    "s1 = student.maths"
   ]
  },
  {
   "cell_type": "code",
   "execution_count": 99,
   "id": "9d95cbbd-0f4f-405f-86fc-6479eea4d95e",
   "metadata": {},
   "outputs": [
    {
     "name": "stdout",
     "output_type": "stream",
     "text": [
      "12\n",
      "45\n",
      "45\n"
     ]
    }
   ],
   "source": [
    "for i in range(1,4):\n",
    "    print(s1.loc[i*2])\n",
    "\n",
    "# It gives the value of an index M1"
   ]
  },
  {
   "cell_type": "code",
   "execution_count": 100,
   "id": "c5f70610-f128-43ed-944d-92594630858b",
   "metadata": {
    "scrolled": true
   },
   "outputs": [
    {
     "data": {
      "text/html": [
       "<div>\n",
       "<style scoped>\n",
       "    .dataframe tbody tr th:only-of-type {\n",
       "        vertical-align: middle;\n",
       "    }\n",
       "\n",
       "    .dataframe tbody tr th {\n",
       "        vertical-align: top;\n",
       "    }\n",
       "\n",
       "    .dataframe thead th {\n",
       "        text-align: right;\n",
       "    }\n",
       "</style>\n",
       "<table border=\"1\" class=\"dataframe\">\n",
       "  <thead>\n",
       "    <tr style=\"text-align: right;\">\n",
       "      <th></th>\n",
       "      <th>student</th>\n",
       "      <th>language</th>\n",
       "      <th>science</th>\n",
       "      <th>maths</th>\n",
       "      <th>history</th>\n",
       "    </tr>\n",
       "  </thead>\n",
       "  <tbody>\n",
       "    <tr>\n",
       "      <th>0</th>\n",
       "      <td>kumar</td>\n",
       "      <td>90</td>\n",
       "      <td>56</td>\n",
       "      <td>34</td>\n",
       "      <td>34</td>\n",
       "    </tr>\n",
       "    <tr>\n",
       "      <th>1</th>\n",
       "      <td>kevin</td>\n",
       "      <td>10</td>\n",
       "      <td>34</td>\n",
       "      <td>32</td>\n",
       "      <td>67</td>\n",
       "    </tr>\n",
       "    <tr>\n",
       "      <th>2</th>\n",
       "      <td>sammy</td>\n",
       "      <td>90</td>\n",
       "      <td>23</td>\n",
       "      <td>12</td>\n",
       "      <td>32</td>\n",
       "    </tr>\n",
       "  </tbody>\n",
       "</table>\n",
       "</div>"
      ],
      "text/plain": [
       "  student  language  science  maths  history\n",
       "0   kumar        90       56     34       34\n",
       "1   kevin        10       34     32       67\n",
       "2   sammy        90       23     12       32"
      ]
     },
     "execution_count": 100,
     "metadata": {},
     "output_type": "execute_result"
    }
   ],
   "source": [
    "# M2\n",
    "\n",
    "student.loc[:2]"
   ]
  },
  {
   "cell_type": "code",
   "execution_count": 101,
   "id": "50db87b8-cb87-4ddc-90a4-01f050daa5ec",
   "metadata": {},
   "outputs": [
    {
     "data": {
      "text/plain": [
       "student     peter\n",
       "language       30\n",
       "science        56\n",
       "maths          45\n",
       "history        65\n",
       "Name: 4, dtype: object"
      ]
     },
     "execution_count": 101,
     "metadata": {},
     "output_type": "execute_result"
    }
   ],
   "source": [
    "student.iloc[4]"
   ]
  },
  {
   "cell_type": "code",
   "execution_count": 102,
   "id": "ed234d43-7572-4d4f-ac04-bfbae66a7f0a",
   "metadata": {},
   "outputs": [
    {
     "data": {
      "text/html": [
       "<div>\n",
       "<style scoped>\n",
       "    .dataframe tbody tr th:only-of-type {\n",
       "        vertical-align: middle;\n",
       "    }\n",
       "\n",
       "    .dataframe tbody tr th {\n",
       "        vertical-align: top;\n",
       "    }\n",
       "\n",
       "    .dataframe thead th {\n",
       "        text-align: right;\n",
       "    }\n",
       "</style>\n",
       "<table border=\"1\" class=\"dataframe\">\n",
       "  <thead>\n",
       "    <tr style=\"text-align: right;\">\n",
       "      <th></th>\n",
       "      <th>student</th>\n",
       "      <th>language</th>\n",
       "      <th>science</th>\n",
       "      <th>maths</th>\n",
       "      <th>history</th>\n",
       "    </tr>\n",
       "  </thead>\n",
       "  <tbody>\n",
       "    <tr>\n",
       "      <th>0</th>\n",
       "      <td>kumar</td>\n",
       "      <td>90</td>\n",
       "      <td>56</td>\n",
       "      <td>34</td>\n",
       "      <td>34</td>\n",
       "    </tr>\n",
       "    <tr>\n",
       "      <th>1</th>\n",
       "      <td>kevin</td>\n",
       "      <td>10</td>\n",
       "      <td>34</td>\n",
       "      <td>32</td>\n",
       "      <td>67</td>\n",
       "    </tr>\n",
       "  </tbody>\n",
       "</table>\n",
       "</div>"
      ],
      "text/plain": [
       "  student  language  science  maths  history\n",
       "0   kumar        90       56     34       34\n",
       "1   kevin        10       34     32       67"
      ]
     },
     "execution_count": 102,
     "metadata": {},
     "output_type": "execute_result"
    }
   ],
   "source": [
    "student.iloc[:2]"
   ]
  },
  {
   "cell_type": "code",
   "execution_count": 103,
   "id": "46b7ade6-d6f0-4aa1-841c-f9d894c7bc16",
   "metadata": {},
   "outputs": [
    {
     "data": {
      "text/plain": [
       "student     object\n",
       "language     int64\n",
       "science      int64\n",
       "maths        int64\n",
       "history      int64\n",
       "dtype: object"
      ]
     },
     "execution_count": 103,
     "metadata": {},
     "output_type": "execute_result"
    }
   ],
   "source": [
    "student.dtypes"
   ]
  },
  {
   "cell_type": "code",
   "execution_count": 104,
   "id": "6a9ff89c-efc6-4435-af81-8c48ca251075",
   "metadata": {},
   "outputs": [
    {
     "data": {
      "text/html": [
       "<div>\n",
       "<style scoped>\n",
       "    .dataframe tbody tr th:only-of-type {\n",
       "        vertical-align: middle;\n",
       "    }\n",
       "\n",
       "    .dataframe tbody tr th {\n",
       "        vertical-align: top;\n",
       "    }\n",
       "\n",
       "    .dataframe thead th {\n",
       "        text-align: right;\n",
       "    }\n",
       "</style>\n",
       "<table border=\"1\" class=\"dataframe\">\n",
       "  <thead>\n",
       "    <tr style=\"text-align: right;\">\n",
       "      <th></th>\n",
       "      <th>student</th>\n",
       "      <th>language</th>\n",
       "      <th>science</th>\n",
       "      <th>maths</th>\n",
       "      <th>history</th>\n",
       "    </tr>\n",
       "  </thead>\n",
       "  <tbody>\n",
       "    <tr>\n",
       "      <th>3</th>\n",
       "      <td>janice</td>\n",
       "      <td>20</td>\n",
       "      <td>67</td>\n",
       "      <td>90</td>\n",
       "      <td>45</td>\n",
       "    </tr>\n",
       "  </tbody>\n",
       "</table>\n",
       "</div>"
      ],
      "text/plain": [
       "  student  language  science  maths  history\n",
       "3  janice        20       67     90       45"
      ]
     },
     "execution_count": 104,
     "metadata": {},
     "output_type": "execute_result"
    }
   ],
   "source": [
    "student[student[\"maths\"] >= 90]"
   ]
  },
  {
   "cell_type": "code",
   "execution_count": 111,
   "id": "42659532-d440-4b65-8a02-7409cee60640",
   "metadata": {},
   "outputs": [
    {
     "data": {
      "text/plain": [
       "[5.35, 3.575, 3.925, 5.55, 4.9, 5.35, 5.2]"
      ]
     },
     "execution_count": 111,
     "metadata": {},
     "output_type": "execute_result"
    }
   ],
   "source": [
    "  avg = []\n",
    "for i in range(0,7):\n",
    "    av = (student.language.loc[i]+student.science.loc[i]+student.maths.loc[i]+student.history.loc[i])/40\n",
    "    avg.append(av)\n",
    "\n",
    "avg\n",
    "# student.maths.loc[1]\n",
    "# student.language.index"
   ]
  },
  {
   "cell_type": "code",
   "execution_count": 112,
   "id": "7327d946-5f2a-4078-98a8-e552d7feed2c",
   "metadata": {},
   "outputs": [],
   "source": [
    "student[\"Avarage\"]=avg"
   ]
  },
  {
   "cell_type": "code",
   "execution_count": 114,
   "id": "b89d55fa-5009-4e1a-a75a-075e99d7a78e",
   "metadata": {},
   "outputs": [
    {
     "data": {
      "text/html": [
       "<div>\n",
       "<style scoped>\n",
       "    .dataframe tbody tr th:only-of-type {\n",
       "        vertical-align: middle;\n",
       "    }\n",
       "\n",
       "    .dataframe tbody tr th {\n",
       "        vertical-align: top;\n",
       "    }\n",
       "\n",
       "    .dataframe thead th {\n",
       "        text-align: right;\n",
       "    }\n",
       "</style>\n",
       "<table border=\"1\" class=\"dataframe\">\n",
       "  <thead>\n",
       "    <tr style=\"text-align: right;\">\n",
       "      <th></th>\n",
       "      <th>student</th>\n",
       "      <th>language</th>\n",
       "      <th>science</th>\n",
       "      <th>maths</th>\n",
       "      <th>history</th>\n",
       "      <th>Avarage</th>\n",
       "    </tr>\n",
       "  </thead>\n",
       "  <tbody>\n",
       "    <tr>\n",
       "      <th>0</th>\n",
       "      <td>kumar</td>\n",
       "      <td>90</td>\n",
       "      <td>56</td>\n",
       "      <td>34</td>\n",
       "      <td>34</td>\n",
       "      <td>5.350</td>\n",
       "    </tr>\n",
       "    <tr>\n",
       "      <th>1</th>\n",
       "      <td>kevin</td>\n",
       "      <td>10</td>\n",
       "      <td>34</td>\n",
       "      <td>32</td>\n",
       "      <td>67</td>\n",
       "      <td>3.575</td>\n",
       "    </tr>\n",
       "    <tr>\n",
       "      <th>2</th>\n",
       "      <td>sammy</td>\n",
       "      <td>90</td>\n",
       "      <td>23</td>\n",
       "      <td>12</td>\n",
       "      <td>32</td>\n",
       "      <td>3.925</td>\n",
       "    </tr>\n",
       "    <tr>\n",
       "      <th>3</th>\n",
       "      <td>janice</td>\n",
       "      <td>20</td>\n",
       "      <td>67</td>\n",
       "      <td>90</td>\n",
       "      <td>45</td>\n",
       "      <td>5.550</td>\n",
       "    </tr>\n",
       "    <tr>\n",
       "      <th>4</th>\n",
       "      <td>peter</td>\n",
       "      <td>30</td>\n",
       "      <td>56</td>\n",
       "      <td>45</td>\n",
       "      <td>65</td>\n",
       "      <td>4.900</td>\n",
       "    </tr>\n",
       "    <tr>\n",
       "      <th>5</th>\n",
       "      <td>prem</td>\n",
       "      <td>90</td>\n",
       "      <td>45</td>\n",
       "      <td>45</td>\n",
       "      <td>34</td>\n",
       "      <td>5.350</td>\n",
       "    </tr>\n",
       "    <tr>\n",
       "      <th>6</th>\n",
       "      <td>carrol</td>\n",
       "      <td>50</td>\n",
       "      <td>90</td>\n",
       "      <td>45</td>\n",
       "      <td>23</td>\n",
       "      <td>5.200</td>\n",
       "    </tr>\n",
       "  </tbody>\n",
       "</table>\n",
       "</div>"
      ],
      "text/plain": [
       "  student  language  science  maths  history  Avarage\n",
       "0   kumar        90       56     34       34    5.350\n",
       "1   kevin        10       34     32       67    3.575\n",
       "2   sammy        90       23     12       32    3.925\n",
       "3  janice        20       67     90       45    5.550\n",
       "4   peter        30       56     45       65    4.900\n",
       "5    prem        90       45     45       34    5.350\n",
       "6  carrol        50       90     45       23    5.200"
      ]
     },
     "execution_count": 114,
     "metadata": {},
     "output_type": "execute_result"
    }
   ],
   "source": [
    "student"
   ]
  },
  {
   "cell_type": "code",
   "execution_count": 116,
   "id": "cd3b413e-9189-4782-9515-d0be765b71de",
   "metadata": {},
   "outputs": [
    {
     "data": {
      "text/html": [
       "<div>\n",
       "<style scoped>\n",
       "    .dataframe tbody tr th:only-of-type {\n",
       "        vertical-align: middle;\n",
       "    }\n",
       "\n",
       "    .dataframe tbody tr th {\n",
       "        vertical-align: top;\n",
       "    }\n",
       "\n",
       "    .dataframe thead th {\n",
       "        text-align: right;\n",
       "    }\n",
       "</style>\n",
       "<table border=\"1\" class=\"dataframe\">\n",
       "  <thead>\n",
       "    <tr style=\"text-align: right;\">\n",
       "      <th></th>\n",
       "      <th>student</th>\n",
       "      <th>language</th>\n",
       "      <th>science</th>\n",
       "      <th>maths</th>\n",
       "      <th>history</th>\n",
       "      <th>Avarage</th>\n",
       "      <th>Behavier Score</th>\n",
       "    </tr>\n",
       "  </thead>\n",
       "  <tbody>\n",
       "    <tr>\n",
       "      <th>0</th>\n",
       "      <td>kumar</td>\n",
       "      <td>90</td>\n",
       "      <td>56</td>\n",
       "      <td>34</td>\n",
       "      <td>34</td>\n",
       "      <td>5.350</td>\n",
       "      <td>Nan</td>\n",
       "    </tr>\n",
       "    <tr>\n",
       "      <th>1</th>\n",
       "      <td>kevin</td>\n",
       "      <td>10</td>\n",
       "      <td>34</td>\n",
       "      <td>32</td>\n",
       "      <td>67</td>\n",
       "      <td>3.575</td>\n",
       "      <td>7</td>\n",
       "    </tr>\n",
       "    <tr>\n",
       "      <th>2</th>\n",
       "      <td>sammy</td>\n",
       "      <td>90</td>\n",
       "      <td>23</td>\n",
       "      <td>12</td>\n",
       "      <td>32</td>\n",
       "      <td>3.925</td>\n",
       "      <td>8</td>\n",
       "    </tr>\n",
       "    <tr>\n",
       "      <th>3</th>\n",
       "      <td>janice</td>\n",
       "      <td>20</td>\n",
       "      <td>67</td>\n",
       "      <td>90</td>\n",
       "      <td>45</td>\n",
       "      <td>5.550</td>\n",
       "      <td>2</td>\n",
       "    </tr>\n",
       "    <tr>\n",
       "      <th>4</th>\n",
       "      <td>peter</td>\n",
       "      <td>30</td>\n",
       "      <td>56</td>\n",
       "      <td>45</td>\n",
       "      <td>65</td>\n",
       "      <td>4.900</td>\n",
       "      <td>Nan</td>\n",
       "    </tr>\n",
       "    <tr>\n",
       "      <th>5</th>\n",
       "      <td>prem</td>\n",
       "      <td>90</td>\n",
       "      <td>45</td>\n",
       "      <td>45</td>\n",
       "      <td>34</td>\n",
       "      <td>5.350</td>\n",
       "      <td>9</td>\n",
       "    </tr>\n",
       "    <tr>\n",
       "      <th>6</th>\n",
       "      <td>carrol</td>\n",
       "      <td>50</td>\n",
       "      <td>90</td>\n",
       "      <td>45</td>\n",
       "      <td>23</td>\n",
       "      <td>5.200</td>\n",
       "      <td>Nan</td>\n",
       "    </tr>\n",
       "  </tbody>\n",
       "</table>\n",
       "</div>"
      ],
      "text/plain": [
       "  student  language  science  maths  history  Avarage Behavier Score\n",
       "0   kumar        90       56     34       34    5.350            Nan\n",
       "1   kevin        10       34     32       67    3.575              7\n",
       "2   sammy        90       23     12       32    3.925              8\n",
       "3  janice        20       67     90       45    5.550              2\n",
       "4   peter        30       56     45       65    4.900            Nan\n",
       "5    prem        90       45     45       34    5.350              9\n",
       "6  carrol        50       90     45       23    5.200            Nan"
      ]
     },
     "execution_count": 116,
     "metadata": {},
     "output_type": "execute_result"
    }
   ],
   "source": [
    "student[\"Behavier Score\"]= [\"Nan\",7,8,2,\"Nan\",9,\"Nan\"] \n",
    "student"
   ]
  },
  {
   "cell_type": "code",
   "execution_count": 120,
   "id": "66ed20e4-e3ba-48c9-ad0d-cf788d54f633",
   "metadata": {},
   "outputs": [
    {
     "data": {
      "text/html": [
       "<div>\n",
       "<style scoped>\n",
       "    .dataframe tbody tr th:only-of-type {\n",
       "        vertical-align: middle;\n",
       "    }\n",
       "\n",
       "    .dataframe tbody tr th {\n",
       "        vertical-align: top;\n",
       "    }\n",
       "\n",
       "    .dataframe thead th {\n",
       "        text-align: right;\n",
       "    }\n",
       "</style>\n",
       "<table border=\"1\" class=\"dataframe\">\n",
       "  <thead>\n",
       "    <tr style=\"text-align: right;\">\n",
       "      <th></th>\n",
       "      <th>language</th>\n",
       "      <th>science</th>\n",
       "      <th>maths</th>\n",
       "      <th>history</th>\n",
       "    </tr>\n",
       "    <tr>\n",
       "      <th>Avarage</th>\n",
       "      <th></th>\n",
       "      <th></th>\n",
       "      <th></th>\n",
       "      <th></th>\n",
       "    </tr>\n",
       "  </thead>\n",
       "  <tbody>\n",
       "    <tr>\n",
       "      <th>3.575</th>\n",
       "      <td>10.0</td>\n",
       "      <td>34.0</td>\n",
       "      <td>32.0</td>\n",
       "      <td>67.0</td>\n",
       "    </tr>\n",
       "    <tr>\n",
       "      <th>3.925</th>\n",
       "      <td>90.0</td>\n",
       "      <td>23.0</td>\n",
       "      <td>12.0</td>\n",
       "      <td>32.0</td>\n",
       "    </tr>\n",
       "    <tr>\n",
       "      <th>4.900</th>\n",
       "      <td>30.0</td>\n",
       "      <td>56.0</td>\n",
       "      <td>45.0</td>\n",
       "      <td>65.0</td>\n",
       "    </tr>\n",
       "    <tr>\n",
       "      <th>5.200</th>\n",
       "      <td>50.0</td>\n",
       "      <td>90.0</td>\n",
       "      <td>45.0</td>\n",
       "      <td>23.0</td>\n",
       "    </tr>\n",
       "    <tr>\n",
       "      <th>5.350</th>\n",
       "      <td>90.0</td>\n",
       "      <td>50.5</td>\n",
       "      <td>39.5</td>\n",
       "      <td>34.0</td>\n",
       "    </tr>\n",
       "    <tr>\n",
       "      <th>5.550</th>\n",
       "      <td>20.0</td>\n",
       "      <td>67.0</td>\n",
       "      <td>90.0</td>\n",
       "      <td>45.0</td>\n",
       "    </tr>\n",
       "  </tbody>\n",
       "</table>\n",
       "</div>"
      ],
      "text/plain": [
       "         language  science  maths  history\n",
       "Avarage                                   \n",
       "3.575        10.0     34.0   32.0     67.0\n",
       "3.925        90.0     23.0   12.0     32.0\n",
       "4.900        30.0     56.0   45.0     65.0\n",
       "5.200        50.0     90.0   45.0     23.0\n",
       "5.350        90.0     50.5   39.5     34.0\n",
       "5.550        20.0     67.0   90.0     45.0"
      ]
     },
     "execution_count": 120,
     "metadata": {},
     "output_type": "execute_result"
    }
   ],
   "source": [
    "student.groupby([\"Avarage\"]).mean(numeric_only=True)"
   ]
  },
  {
   "cell_type": "code",
   "execution_count": 121,
   "id": "8e3fc751-e7d3-4572-a4d8-304e5d49c6c2",
   "metadata": {},
   "outputs": [
    {
     "data": {
      "text/plain": [
       "<Axes: >"
      ]
     },
     "execution_count": 121,
     "metadata": {},
     "output_type": "execute_result"
    },
    {
     "data": {
      "image/png": "[encoded data removed]",
      "text/plain": [
       "<Figure size 640x480 with 1 Axes>"
      ]
     },
     "metadata": {},
     "output_type": "display_data"
    }
   ],
   "source": [
    "student[\"Avarage\"].plot()"
   ]
  },
  {
   "cell_type": "code",
   "execution_count": 123,
   "id": "993e790d-0ad5-4793-af06-21a21967944d",
   "metadata": {},
   "outputs": [
    {
     "data": {
      "text/plain": [
       "<Axes: >"
      ]
     },
     "execution_count": 123,
     "metadata": {},
     "output_type": "execute_result"
    },
    {
     "data": {
      "image/png": "[encoded data removed]",
      "text/plain": [
       "<Figure size 640x480 with 1 Axes>"
      ]
     },
     "metadata": {},
     "output_type": "display_data"
    }
   ],
   "source": [
    "student[\"Avarage\"].hist()"
   ]
  },
  {
   "cell_type": "code",
   "execution_count": null,
   "id": "a64e330f-74ed-4c26-8bd7-95a3544497d8",
   "metadata": {},
   "outputs": [],
   "source": []
  },
  {
   "cell_type": "code",
   "execution_count": null,
   "id": "655ff405-2920-41e4-b48a-0d3e8c2a2989",
   "metadata": {},
   "outputs": [],
   "source": []
  }
 ],
 "metadata": {
  "kernelspec": {
   "display_name": "Python 3 (ipykernel)",
   "language": "python",
   "name": "python3"
  },
  "language_info": {
   "codemirror_mode": {
    "name": "ipython",
    "version": 3
   },
   "file_extension": ".py",
   "mimetype": "text/x-python",
   "name": "python",
   "nbconvert_exporter": "python",
   "pygments_lexer": "ipython3",
   "version": "3.12.4"
  }
 },
 "nbformat": 4,
 "nbformat_minor": 5
}
